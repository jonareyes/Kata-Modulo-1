{
 "cells": [
  {
   "cell_type": "markdown",
   "metadata": {},
   "source": [
    "## Tu Primer Programa Kata Módulo 1"
   ]
  },
  {
   "cell_type": "code",
   "execution_count": 1,
   "metadata": {},
   "outputs": [
    {
     "name": "stdout",
     "output_type": "stream",
     "text": [
      "Today's date is: 2022-02-15\n"
     ]
    }
   ],
   "source": [
    "from datetime import date\n",
    "# se regresa un print para poder imprimir el string concatenado con la fecha, se cambia fecha por str\n",
    "print(\"Today's date is: \" + str(date.today()))"
   ]
  },
  {
   "cell_type": "code",
   "execution_count": 2,
   "metadata": {},
   "outputs": [
    {
     "name": "stdout",
     "output_type": "stream",
     "text": [
      "11 parsec, is 0 lightyears\n"
     ]
    }
   ],
   "source": [
    "#se crean don variables int y se convierten en str para poder regresarla toda la cadena completa con concatenación\n",
    "parsec = 11\n",
    "lightyears = 0\n",
    "print(str(parsec) + \" parsec, is \" + str(lightyears) + \" lightyears\")\n"
   ]
  }
 ],
 "metadata": {
  "interpreter": {
   "hash": "3e04ad78f7c416898c4248057b4f6b5c5389828ade3d154885679899d54f1c99"
  },
  "kernelspec": {
   "display_name": "Python 3.7.8 64-bit ('3.7.8')",
   "language": "python",
   "name": "python3"
  },
  "language_info": {
   "codemirror_mode": {
    "name": "ipython",
    "version": 3
   },
   "file_extension": ".py",
   "mimetype": "text/x-python",
   "name": "python",
   "nbconvert_exporter": "python",
   "pygments_lexer": "ipython3",
   "version": "3.7.8"
  },
  "orig_nbformat": 4
 },
 "nbformat": 4,
 "nbformat_minor": 2
}
